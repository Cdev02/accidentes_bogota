{
  "nbformat": 4,
  "nbformat_minor": 0,
  "metadata": {
    "colab": {
      "provenance": [],
      "authorship_tag": "ABX9TyOGZiDqy9a4EmgK6aV5UKPI",
      "include_colab_link": true
    },
    "kernelspec": {
      "name": "python3",
      "display_name": "Python 3"
    },
    "language_info": {
      "name": "python"
    },
    "gpuClass": "standard"
  },
  "cells": [
    {
      "cell_type": "markdown",
      "metadata": {
        "id": "view-in-github",
        "colab_type": "text"
      },
      "source": [
        "<a href=\"https://colab.research.google.com/github/Cdev02/accidentes_bogota/blob/areas_metrics_implementation/notebooks/areas_%26_metrics.ipynb\" target=\"_parent\"><img src=\"https://colab.research.google.com/assets/colab-badge.svg\" alt=\"Open In Colab\"/></a>"
      ]
    },
    {
      "cell_type": "code",
      "execution_count": null,
      "metadata": {
        "id": "d5Gf3oGv8Icf"
      },
      "outputs": [],
      "source": [
        "!pip install geopandas\n",
        "!pip install fiona\n",
        "!pip install shapely\n",
        "!pip install descartes\n",
        "!pip install gdal\n",
        "!pip install geos"
      ]
    },
    {
      "cell_type": "code",
      "source": [
        "import pandas as pd\n",
        "import numpy as np\n",
        "import matplotlib.pyplot as plt\n",
        "import geopandas as gpd\n",
        "from google.colab import drive"
      ],
      "metadata": {
        "id": "hK_M2NJx8W7z"
      },
      "execution_count": null,
      "outputs": []
    },
    {
      "cell_type": "code",
      "source": [
        "drive.mount(\"/content/drive\")"
      ],
      "metadata": {
        "colab": {
          "base_uri": "https://localhost:8080/"
        },
        "id": "kzsNlosq8eJq",
        "outputId": "da426d26-4825-4062-ddc5-4123d2806652"
      },
      "execution_count": null,
      "outputs": [
        {
          "output_type": "stream",
          "name": "stdout",
          "text": [
            "Drive already mounted at /content/drive; to attempt to forcibly remount, call drive.mount(\"/content/drive\", force_remount=True).\n"
          ]
        }
      ]
    },
    {
      "cell_type": "code",
      "source": [
        "#IMPORTAR ARCHIVO SHAPE QUE CONTIENE TODAS LAS DIRECCIONES Y SUS RESPECTIVAS COORDENADAS\n",
        "vehicular_area = gpd.read_file(\"/content/drive/MyDrive/project_data_accidentes_bogota/data/infraestructura_vial/calzada_x_localidad/calzada_x_localidad.shp\")\n",
        "#LET'S CALCULATE THE AREA FOR EVERY OBJECT\n",
        "vehicular_area['total_area'] = vehicular_area['CalAncho'] * vehicular_area['CalLongitu']"
      ],
      "metadata": {
        "id": "UqrcwTrr90Fi"
      },
      "execution_count": null,
      "outputs": []
    },
    {
      "cell_type": "code",
      "source": [
        "pedestrian_area = gpd.read_file(\"/content/drive/MyDrive/project_data_accidentes_bogota/data/infraestructura_vial/andenes_x_localidad/andenes_x_localidad.shp\")"
      ],
      "metadata": {
        "id": "TlgjG8Tt_Gxk"
      },
      "execution_count": null,
      "outputs": []
    },
    {
      "cell_type": "code",
      "source": [
        "cycling_area = gpd.read_file(\"/content/drive/MyDrive/project_data_accidentes_bogota/data/infraestructura_vial/ciclorrutas_x_localidad/ciclorrutas_x_localidad.shp\")"
      ],
      "metadata": {
        "id": "bF3Ld9XkCSYH"
      },
      "execution_count": null,
      "outputs": []
    },
    {
      "cell_type": "code",
      "source": [
        "vehicular_area.groupby('Nombre_de_')['total_area'].sum()"
      ],
      "metadata": {
        "colab": {
          "base_uri": "https://localhost:8080/"
        },
        "id": "v_ucyv-d-Jkk",
        "outputId": "ba3d3a54-8981-45e6-eb3f-7d8ac1789f36"
      },
      "execution_count": null,
      "outputs": [
        {
          "output_type": "execute_result",
          "data": {
            "text/plain": [
              "Nombre_de_\n",
              "ANTONIO NARINO        9.359330e+05\n",
              "BARRIOS UNIDOS        2.077461e+06\n",
              "BOSA                  2.551321e+06\n",
              "CANDELARIA            2.583004e+05\n",
              "CHAPINERO             1.786011e+06\n",
              "CIUDAD BOLIVAR        2.883905e+06\n",
              "ENGATIVA              4.485167e+06\n",
              "FONTIBON              2.915540e+06\n",
              "KENNEDY               5.275634e+06\n",
              "LOS MARTIRES          1.340816e+06\n",
              "PUENTE ARANDA         3.048075e+06\n",
              "RAFAEL URIBE URIBE    1.908355e+06\n",
              "SAN CRISTOBAL         2.034718e+06\n",
              "SANTA FE              1.075981e+06\n",
              "SUBA                  5.904948e+06\n",
              "TEUSAQUILLO           2.246158e+06\n",
              "TUNJUELITO            1.129403e+06\n",
              "USAQUEN               3.875089e+06\n",
              "USME                  2.028414e+06\n",
              "Name: total_area, dtype: float64"
            ]
          },
          "metadata": {},
          "execution_count": 22
        }
      ]
    },
    {
      "cell_type": "code",
      "source": [
        "localidades = gpd.read_file(\"/content/drive/MyDrive/project_data_accidentes_bogota/data/delimitaciones & mapas/localidades/bog_loc.shp\")"
      ],
      "metadata": {
        "id": "hNpmxZjZI0Zp"
      },
      "execution_count": null,
      "outputs": []
    },
    {
      "cell_type": "code",
      "source": [
        "vehicular_area"
      ],
      "metadata": {
        "colab": {
          "base_uri": "https://localhost:8080/",
          "height": 988
        },
        "id": "WDrDCZzbxGXS",
        "outputId": "c780be7f-c154-4b10-f0f8-aab2bb7c7bf2"
      },
      "execution_count": null,
      "outputs": [
        {
          "output_type": "execute_result",
          "data": {
            "text/plain": [
              "        CalFuncion  CalTSuperf  CalCodigo    CalCIV  CalAncho  CalLongitu  \\\n",
              "0                1           1     450774  19005215      5.44       23.57   \n",
              "1                1           2     322232   6000769      5.86       51.02   \n",
              "2                1           1     204411   4001628      5.65       36.21   \n",
              "3                1           2     387502   9002983      5.59      109.18   \n",
              "4                1           2     358851   7003415      2.83       37.88   \n",
              "...            ...         ...        ...       ...       ...         ...   \n",
              "100762           1           8   91063544  19016388      8.24       80.85   \n",
              "100763           1           2     177453  11000026      6.66      382.70   \n",
              "100764           1           2     183677  14000084     11.35      171.61   \n",
              "100765           1           2     325585   6001887      9.15      438.39   \n",
              "100766           1           2     186268  16004418      6.33       53.19   \n",
              "\n",
              "        SHAPE_Leng    SHAPE_Area      Nombre_de_           Acto_admin  \\\n",
              "0         0.000653  1.043383e-08  CIUDAD BOLIVAR   Acuerdo 14 de 1983   \n",
              "1         0.001026  2.435026e-08      TUNJUELITO  Acuerdo 117 de 2003   \n",
              "2         0.000752  1.665462e-08   SAN CRISTOBAL  Acuerdo 117 de 2003   \n",
              "3         0.002161  4.973400e-08        FONTIBON    Acuerdo 8 de 1977   \n",
              "4         0.000806  8.718553e-09            BOSA   Acuerdo 14 de 1983   \n",
              "...            ...           ...             ...                  ...   \n",
              "100762    0.001616  5.427871e-08  CIUDAD BOLIVAR   Acuerdo 14 de 1983   \n",
              "100763    0.007340  2.072364e-07            SUBA    Acuerdo 8 de 1977   \n",
              "100764    0.003629  1.587291e-07    LOS MARTIRES    Acuerdo 8 de 1977   \n",
              "100765    0.008182  3.332283e-07      TUNJUELITO  Acuerdo 117 de 2003   \n",
              "100766    0.001169  2.749401e-08   PUENTE ARANDA    Acuerdo 8 de 1977   \n",
              "\n",
              "              Area_de_la Identifica  \\\n",
              "0       130002593,080624         19   \n",
              "1         9910939,743524         06   \n",
              "2         49098548,52917         04   \n",
              "3        33281002,494914         09   \n",
              "4        23933196,086856         07   \n",
              "...                  ...        ...   \n",
              "100762  130002593,080624         19   \n",
              "100763  100560477,718254         11   \n",
              "100764    6514046,260403         14   \n",
              "100765    9910939,743524         06   \n",
              "100766   17311149,936259         16   \n",
              "\n",
              "                                                 geometry  total_area  \n",
              "0       POLYGON ((-74.15113 4.56886, -74.15115 4.56883...    128.2208  \n",
              "1       POLYGON ((-74.13207 4.58473, -74.13241 4.58465...    298.9772  \n",
              "2       POLYGON ((-74.08319 4.56435, -74.08320 4.56436...    204.5865  \n",
              "3       POLYGON ((-74.11816 4.66901, -74.11885 4.66839...    610.3162  \n",
              "4       POLYGON ((-74.18382 4.61978, -74.18382 4.61978...    107.2004  \n",
              "...                                                   ...         ...  \n",
              "100762  POLYGON ((-74.17298 4.58587, -74.17298 4.58586...    666.2040  \n",
              "100763  POLYGON ((-74.04019 4.80967, -74.04021 4.80967...   2548.7820  \n",
              "100764  POLYGON ((-74.08603 4.62035, -74.08603 4.62035...   1947.7735  \n",
              "100765  POLYGON ((-74.14826 4.59179, -74.14826 4.59179...   4011.2685  \n",
              "100766  POLYGON ((-74.12499 4.59388, -74.12498 4.59388...    336.6927  \n",
              "\n",
              "[100767 rows x 14 columns]"
            ],
            "text/html": [
              "\n",
              "  <div id=\"df-f597f093-462f-4833-8607-e248e1d16bfb\">\n",
              "    <div class=\"colab-df-container\">\n",
              "      <div>\n",
              "<style scoped>\n",
              "    .dataframe tbody tr th:only-of-type {\n",
              "        vertical-align: middle;\n",
              "    }\n",
              "\n",
              "    .dataframe tbody tr th {\n",
              "        vertical-align: top;\n",
              "    }\n",
              "\n",
              "    .dataframe thead th {\n",
              "        text-align: right;\n",
              "    }\n",
              "</style>\n",
              "<table border=\"1\" class=\"dataframe\">\n",
              "  <thead>\n",
              "    <tr style=\"text-align: right;\">\n",
              "      <th></th>\n",
              "      <th>CalFuncion</th>\n",
              "      <th>CalTSuperf</th>\n",
              "      <th>CalCodigo</th>\n",
              "      <th>CalCIV</th>\n",
              "      <th>CalAncho</th>\n",
              "      <th>CalLongitu</th>\n",
              "      <th>SHAPE_Leng</th>\n",
              "      <th>SHAPE_Area</th>\n",
              "      <th>Nombre_de_</th>\n",
              "      <th>Acto_admin</th>\n",
              "      <th>Area_de_la</th>\n",
              "      <th>Identifica</th>\n",
              "      <th>geometry</th>\n",
              "      <th>total_area</th>\n",
              "    </tr>\n",
              "  </thead>\n",
              "  <tbody>\n",
              "    <tr>\n",
              "      <th>0</th>\n",
              "      <td>1</td>\n",
              "      <td>1</td>\n",
              "      <td>450774</td>\n",
              "      <td>19005215</td>\n",
              "      <td>5.44</td>\n",
              "      <td>23.57</td>\n",
              "      <td>0.000653</td>\n",
              "      <td>1.043383e-08</td>\n",
              "      <td>CIUDAD BOLIVAR</td>\n",
              "      <td>Acuerdo 14 de 1983</td>\n",
              "      <td>130002593,080624</td>\n",
              "      <td>19</td>\n",
              "      <td>POLYGON ((-74.15113 4.56886, -74.15115 4.56883...</td>\n",
              "      <td>128.2208</td>\n",
              "    </tr>\n",
              "    <tr>\n",
              "      <th>1</th>\n",
              "      <td>1</td>\n",
              "      <td>2</td>\n",
              "      <td>322232</td>\n",
              "      <td>6000769</td>\n",
              "      <td>5.86</td>\n",
              "      <td>51.02</td>\n",
              "      <td>0.001026</td>\n",
              "      <td>2.435026e-08</td>\n",
              "      <td>TUNJUELITO</td>\n",
              "      <td>Acuerdo 117 de 2003</td>\n",
              "      <td>9910939,743524</td>\n",
              "      <td>06</td>\n",
              "      <td>POLYGON ((-74.13207 4.58473, -74.13241 4.58465...</td>\n",
              "      <td>298.9772</td>\n",
              "    </tr>\n",
              "    <tr>\n",
              "      <th>2</th>\n",
              "      <td>1</td>\n",
              "      <td>1</td>\n",
              "      <td>204411</td>\n",
              "      <td>4001628</td>\n",
              "      <td>5.65</td>\n",
              "      <td>36.21</td>\n",
              "      <td>0.000752</td>\n",
              "      <td>1.665462e-08</td>\n",
              "      <td>SAN CRISTOBAL</td>\n",
              "      <td>Acuerdo 117 de 2003</td>\n",
              "      <td>49098548,52917</td>\n",
              "      <td>04</td>\n",
              "      <td>POLYGON ((-74.08319 4.56435, -74.08320 4.56436...</td>\n",
              "      <td>204.5865</td>\n",
              "    </tr>\n",
              "    <tr>\n",
              "      <th>3</th>\n",
              "      <td>1</td>\n",
              "      <td>2</td>\n",
              "      <td>387502</td>\n",
              "      <td>9002983</td>\n",
              "      <td>5.59</td>\n",
              "      <td>109.18</td>\n",
              "      <td>0.002161</td>\n",
              "      <td>4.973400e-08</td>\n",
              "      <td>FONTIBON</td>\n",
              "      <td>Acuerdo 8 de 1977</td>\n",
              "      <td>33281002,494914</td>\n",
              "      <td>09</td>\n",
              "      <td>POLYGON ((-74.11816 4.66901, -74.11885 4.66839...</td>\n",
              "      <td>610.3162</td>\n",
              "    </tr>\n",
              "    <tr>\n",
              "      <th>4</th>\n",
              "      <td>1</td>\n",
              "      <td>2</td>\n",
              "      <td>358851</td>\n",
              "      <td>7003415</td>\n",
              "      <td>2.83</td>\n",
              "      <td>37.88</td>\n",
              "      <td>0.000806</td>\n",
              "      <td>8.718553e-09</td>\n",
              "      <td>BOSA</td>\n",
              "      <td>Acuerdo 14 de 1983</td>\n",
              "      <td>23933196,086856</td>\n",
              "      <td>07</td>\n",
              "      <td>POLYGON ((-74.18382 4.61978, -74.18382 4.61978...</td>\n",
              "      <td>107.2004</td>\n",
              "    </tr>\n",
              "    <tr>\n",
              "      <th>...</th>\n",
              "      <td>...</td>\n",
              "      <td>...</td>\n",
              "      <td>...</td>\n",
              "      <td>...</td>\n",
              "      <td>...</td>\n",
              "      <td>...</td>\n",
              "      <td>...</td>\n",
              "      <td>...</td>\n",
              "      <td>...</td>\n",
              "      <td>...</td>\n",
              "      <td>...</td>\n",
              "      <td>...</td>\n",
              "      <td>...</td>\n",
              "      <td>...</td>\n",
              "    </tr>\n",
              "    <tr>\n",
              "      <th>100762</th>\n",
              "      <td>1</td>\n",
              "      <td>8</td>\n",
              "      <td>91063544</td>\n",
              "      <td>19016388</td>\n",
              "      <td>8.24</td>\n",
              "      <td>80.85</td>\n",
              "      <td>0.001616</td>\n",
              "      <td>5.427871e-08</td>\n",
              "      <td>CIUDAD BOLIVAR</td>\n",
              "      <td>Acuerdo 14 de 1983</td>\n",
              "      <td>130002593,080624</td>\n",
              "      <td>19</td>\n",
              "      <td>POLYGON ((-74.17298 4.58587, -74.17298 4.58586...</td>\n",
              "      <td>666.2040</td>\n",
              "    </tr>\n",
              "    <tr>\n",
              "      <th>100763</th>\n",
              "      <td>1</td>\n",
              "      <td>2</td>\n",
              "      <td>177453</td>\n",
              "      <td>11000026</td>\n",
              "      <td>6.66</td>\n",
              "      <td>382.70</td>\n",
              "      <td>0.007340</td>\n",
              "      <td>2.072364e-07</td>\n",
              "      <td>SUBA</td>\n",
              "      <td>Acuerdo 8 de 1977</td>\n",
              "      <td>100560477,718254</td>\n",
              "      <td>11</td>\n",
              "      <td>POLYGON ((-74.04019 4.80967, -74.04021 4.80967...</td>\n",
              "      <td>2548.7820</td>\n",
              "    </tr>\n",
              "    <tr>\n",
              "      <th>100764</th>\n",
              "      <td>1</td>\n",
              "      <td>2</td>\n",
              "      <td>183677</td>\n",
              "      <td>14000084</td>\n",
              "      <td>11.35</td>\n",
              "      <td>171.61</td>\n",
              "      <td>0.003629</td>\n",
              "      <td>1.587291e-07</td>\n",
              "      <td>LOS MARTIRES</td>\n",
              "      <td>Acuerdo 8 de 1977</td>\n",
              "      <td>6514046,260403</td>\n",
              "      <td>14</td>\n",
              "      <td>POLYGON ((-74.08603 4.62035, -74.08603 4.62035...</td>\n",
              "      <td>1947.7735</td>\n",
              "    </tr>\n",
              "    <tr>\n",
              "      <th>100765</th>\n",
              "      <td>1</td>\n",
              "      <td>2</td>\n",
              "      <td>325585</td>\n",
              "      <td>6001887</td>\n",
              "      <td>9.15</td>\n",
              "      <td>438.39</td>\n",
              "      <td>0.008182</td>\n",
              "      <td>3.332283e-07</td>\n",
              "      <td>TUNJUELITO</td>\n",
              "      <td>Acuerdo 117 de 2003</td>\n",
              "      <td>9910939,743524</td>\n",
              "      <td>06</td>\n",
              "      <td>POLYGON ((-74.14826 4.59179, -74.14826 4.59179...</td>\n",
              "      <td>4011.2685</td>\n",
              "    </tr>\n",
              "    <tr>\n",
              "      <th>100766</th>\n",
              "      <td>1</td>\n",
              "      <td>2</td>\n",
              "      <td>186268</td>\n",
              "      <td>16004418</td>\n",
              "      <td>6.33</td>\n",
              "      <td>53.19</td>\n",
              "      <td>0.001169</td>\n",
              "      <td>2.749401e-08</td>\n",
              "      <td>PUENTE ARANDA</td>\n",
              "      <td>Acuerdo 8 de 1977</td>\n",
              "      <td>17311149,936259</td>\n",
              "      <td>16</td>\n",
              "      <td>POLYGON ((-74.12499 4.59388, -74.12498 4.59388...</td>\n",
              "      <td>336.6927</td>\n",
              "    </tr>\n",
              "  </tbody>\n",
              "</table>\n",
              "<p>100767 rows × 14 columns</p>\n",
              "</div>\n",
              "      <button class=\"colab-df-convert\" onclick=\"convertToInteractive('df-f597f093-462f-4833-8607-e248e1d16bfb')\"\n",
              "              title=\"Convert this dataframe to an interactive table.\"\n",
              "              style=\"display:none;\">\n",
              "        \n",
              "  <svg xmlns=\"http://www.w3.org/2000/svg\" height=\"24px\"viewBox=\"0 0 24 24\"\n",
              "       width=\"24px\">\n",
              "    <path d=\"M0 0h24v24H0V0z\" fill=\"none\"/>\n",
              "    <path d=\"M18.56 5.44l.94 2.06.94-2.06 2.06-.94-2.06-.94-.94-2.06-.94 2.06-2.06.94zm-11 1L8.5 8.5l.94-2.06 2.06-.94-2.06-.94L8.5 2.5l-.94 2.06-2.06.94zm10 10l.94 2.06.94-2.06 2.06-.94-2.06-.94-.94-2.06-.94 2.06-2.06.94z\"/><path d=\"M17.41 7.96l-1.37-1.37c-.4-.4-.92-.59-1.43-.59-.52 0-1.04.2-1.43.59L10.3 9.45l-7.72 7.72c-.78.78-.78 2.05 0 2.83L4 21.41c.39.39.9.59 1.41.59.51 0 1.02-.2 1.41-.59l7.78-7.78 2.81-2.81c.8-.78.8-2.07 0-2.86zM5.41 20L4 18.59l7.72-7.72 1.47 1.35L5.41 20z\"/>\n",
              "  </svg>\n",
              "      </button>\n",
              "      \n",
              "  <style>\n",
              "    .colab-df-container {\n",
              "      display:flex;\n",
              "      flex-wrap:wrap;\n",
              "      gap: 12px;\n",
              "    }\n",
              "\n",
              "    .colab-df-convert {\n",
              "      background-color: #E8F0FE;\n",
              "      border: none;\n",
              "      border-radius: 50%;\n",
              "      cursor: pointer;\n",
              "      display: none;\n",
              "      fill: #1967D2;\n",
              "      height: 32px;\n",
              "      padding: 0 0 0 0;\n",
              "      width: 32px;\n",
              "    }\n",
              "\n",
              "    .colab-df-convert:hover {\n",
              "      background-color: #E2EBFA;\n",
              "      box-shadow: 0px 1px 2px rgba(60, 64, 67, 0.3), 0px 1px 3px 1px rgba(60, 64, 67, 0.15);\n",
              "      fill: #174EA6;\n",
              "    }\n",
              "\n",
              "    [theme=dark] .colab-df-convert {\n",
              "      background-color: #3B4455;\n",
              "      fill: #D2E3FC;\n",
              "    }\n",
              "\n",
              "    [theme=dark] .colab-df-convert:hover {\n",
              "      background-color: #434B5C;\n",
              "      box-shadow: 0px 1px 3px 1px rgba(0, 0, 0, 0.15);\n",
              "      filter: drop-shadow(0px 1px 2px rgba(0, 0, 0, 0.3));\n",
              "      fill: #FFFFFF;\n",
              "    }\n",
              "  </style>\n",
              "\n",
              "      <script>\n",
              "        const buttonEl =\n",
              "          document.querySelector('#df-f597f093-462f-4833-8607-e248e1d16bfb button.colab-df-convert');\n",
              "        buttonEl.style.display =\n",
              "          google.colab.kernel.accessAllowed ? 'block' : 'none';\n",
              "\n",
              "        async function convertToInteractive(key) {\n",
              "          const element = document.querySelector('#df-f597f093-462f-4833-8607-e248e1d16bfb');\n",
              "          const dataTable =\n",
              "            await google.colab.kernel.invokeFunction('convertToInteractive',\n",
              "                                                     [key], {});\n",
              "          if (!dataTable) return;\n",
              "\n",
              "          const docLinkHtml = 'Like what you see? Visit the ' +\n",
              "            '<a target=\"_blank\" href=https://colab.research.google.com/notebooks/data_table.ipynb>data table notebook</a>'\n",
              "            + ' to learn more about interactive tables.';\n",
              "          element.innerHTML = '';\n",
              "          dataTable['output_type'] = 'display_data';\n",
              "          await google.colab.output.renderOutput(dataTable, element);\n",
              "          const docLink = document.createElement('div');\n",
              "          docLink.innerHTML = docLinkHtml;\n",
              "          element.appendChild(docLink);\n",
              "        }\n",
              "      </script>\n",
              "    </div>\n",
              "  </div>\n",
              "  "
            ]
          },
          "metadata": {},
          "execution_count": 24
        }
      ]
    },
    {
      "cell_type": "code",
      "source": [
        "vehicular_area['Area_de_la'] = vehicular_area['Area_de_la'].map(lambda item: float(item.replace(',','')))\n",
        "\n",
        "def generate_feature_shares_dataframe(df, zones_column, feature_areas_column, zones_areas_column):\n",
        "  zones_group = df.groupby(zones_column)[feature_areas_column].sum()\n",
        "  metrics_by_zone = pd.DataFrame(df.groupby(zones_column).apply(lambda item: item[zones_areas_column].unique()[0])).rename({0:zones_areas_column},axis=1)\n",
        "  metrics_by_zone['total_feature_area'] = zones_group\n",
        "\n",
        "  metrics_by_zone['feature_share'] = (metrics_by_zone['total_feature_area'] / metrics_by_zone[zones_areas_column])\n",
        "\n",
        "  return metrics_by_zone\n",
        "\n",
        "s = generate_feature_shares_dataframe(vehicular_area, 'Nombre_de_', 'total_area', 'Area_de_la')\n",
        "\n"
      ],
      "metadata": {
        "id": "MQaqEUj7OxCk"
      },
      "execution_count": null,
      "outputs": []
    },
    {
      "cell_type": "code",
      "source": [
        "s.iloc[1]"
      ],
      "metadata": {
        "colab": {
          "base_uri": "https://localhost:8080/"
        },
        "id": "E42VfeuZQ5s9",
        "outputId": "8245204b-5272-47bf-b628-1923f87b4cbc"
      },
      "execution_count": null,
      "outputs": [
        {
          "output_type": "execute_result",
          "data": {
            "text/plain": [
              "Area_de_la            1.190345e+13\n",
              "total_feature_area    2.077461e+06\n",
              "feature_share         1.745260e-07\n",
              "Name: BARRIOS UNIDOS, dtype: float64"
            ]
          },
          "metadata": {},
          "execution_count": 14
        }
      ]
    }
  ]
}